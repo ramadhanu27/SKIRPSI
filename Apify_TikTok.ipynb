{
  "nbformat": 4,
  "nbformat_minor": 0,
  "metadata": {
    "colab": {
      "provenance": [],
      "authorship_tag": "ABX9TyPJ+DAzYhGVTnYU5X3wwQF/",
      "include_colab_link": true
    },
    "kernelspec": {
      "name": "python3",
      "display_name": "Python 3"
    },
    "language_info": {
      "name": "python"
    }
  },
  "cells": [
    {
      "cell_type": "markdown",
      "metadata": {
        "id": "view-in-github",
        "colab_type": "text"
      },
      "source": [
        "<a href=\"https://colab.research.google.com/github/ramadhanu27/SKIRPSI/blob/main/Apify_TikTok.ipynb\" target=\"_parent\"><img src=\"https://colab.research.google.com/assets/colab-badge.svg\" alt=\"Open In Colab\"/></a>"
      ]
    },
    {
      "cell_type": "code",
      "execution_count": null,
      "metadata": {
        "id": "bF_OSprpF-YH"
      },
      "outputs": [],
      "source": [
        "from apify_client import ApifyClient\n",
        "import csv\n",
        "\n",
        "# Inisialisasi ApifyClient dengan token API Anda\n",
        "client = ApifyClient(\"apify_api_AfMbhiDSBaJAvFuIafWpRVN0ZCxeEf0C2fwo\")\n",
        "\n",
        "# Siapkan input untuk Aktor\n",
        "run_input = {\n",
        "    \"postURLs\": [\"https://www.tiktok.com/@timnasindonesia/video/7424206447216479494\"],\n",
        "    \"commentsPerPost\": 1000, #ubah angkanya untuk mengambil jumlah komentar\n",
        "    # Ubah maxRepliesPerComment ke integer atau 0 jika Anda tidak ingin mengambil balasan\n",
        "    \"maxRepliesPerComment\": 0,\n",
        "}\n",
        "\n",
        "# Jalankan Aktor dan tunggu hingga selesai\n",
        "run = client.actor(\"BDec00yAmCm1QbMEI\").call(run_input=run_input)\n",
        "\n",
        "# Siapkan untuk menyimpan komentar ke dalam file CSV\n",
        "with open('komentar.csv', mode='w', newline='', encoding='utf-8') as file:\n",
        "    writer = csv.writer(file)\n",
        "    writer.writerow(['Teks'])  # Menulis header CSV\n",
        "\n",
        "    # Ambil dan simpan hanya teks dari hasil Aktor\n",
        "    for item in client.dataset(run[\"defaultDatasetId\"]).iterate_items():\n",
        "        if 'text' in item:  # Pastikan kunci 'text' ada dalam item\n",
        "            writer.writerow([item['text']])  # Simpan teks komentar ke dalam file CSV\n",
        "            print(item['text'])  # Cetak teks komentar ke konsol\n"
      ]
    },
    {
      "cell_type": "code",
      "source": [
        "pip  install apify-client"
      ],
      "metadata": {
        "colab": {
          "base_uri": "https://localhost:8080/"
        },
        "id": "AaQ1uk_J9bE5",
        "outputId": "a232e574-f93d-475d-9a47-2be7f13ed617"
      },
      "execution_count": 3,
      "outputs": [
        {
          "output_type": "stream",
          "name": "stdout",
          "text": [
            "Collecting apify-client\n",
            "  Downloading apify_client-1.8.1-py3-none-any.whl.metadata (4.3 kB)\n",
            "Collecting apify-shared>=1.1.2 (from apify-client)\n",
            "  Downloading apify_shared-1.1.2-py3-none-any.whl.metadata (2.5 kB)\n",
            "Requirement already satisfied: httpx>=0.25.0 in /usr/local/lib/python3.10/dist-packages (from apify-client) (0.27.2)\n",
            "Requirement already satisfied: more_itertools>=10.0.0 in /usr/local/lib/python3.10/dist-packages (from apify-client) (10.5.0)\n",
            "Requirement already satisfied: anyio in /usr/local/lib/python3.10/dist-packages (from httpx>=0.25.0->apify-client) (3.7.1)\n",
            "Requirement already satisfied: certifi in /usr/local/lib/python3.10/dist-packages (from httpx>=0.25.0->apify-client) (2024.8.30)\n",
            "Requirement already satisfied: httpcore==1.* in /usr/local/lib/python3.10/dist-packages (from httpx>=0.25.0->apify-client) (1.0.6)\n",
            "Requirement already satisfied: idna in /usr/local/lib/python3.10/dist-packages (from httpx>=0.25.0->apify-client) (3.10)\n",
            "Requirement already satisfied: sniffio in /usr/local/lib/python3.10/dist-packages (from httpx>=0.25.0->apify-client) (1.3.1)\n",
            "Requirement already satisfied: h11<0.15,>=0.13 in /usr/local/lib/python3.10/dist-packages (from httpcore==1.*->httpx>=0.25.0->apify-client) (0.14.0)\n",
            "Requirement already satisfied: exceptiongroup in /usr/local/lib/python3.10/dist-packages (from anyio->httpx>=0.25.0->apify-client) (1.2.2)\n",
            "Downloading apify_client-1.8.1-py3-none-any.whl (73 kB)\n",
            "\u001b[2K   \u001b[90m━━━━━━━━━━━━━━━━━━━━━━━━━━━━━━━━━━━━━━━━\u001b[0m \u001b[32m73.5/73.5 kB\u001b[0m \u001b[31m3.1 MB/s\u001b[0m eta \u001b[36m0:00:00\u001b[0m\n",
            "\u001b[?25hDownloading apify_shared-1.1.2-py3-none-any.whl (12 kB)\n",
            "Installing collected packages: apify-shared, apify-client\n",
            "Successfully installed apify-client-1.8.1 apify-shared-1.1.2\n"
          ]
        }
      ]
    }
  ]
}